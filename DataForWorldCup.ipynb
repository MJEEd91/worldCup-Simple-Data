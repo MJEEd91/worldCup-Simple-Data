{
 "cells": [
  {
   "cell_type": "markdown",
   "id": "fb5710ea",
   "metadata": {},
   "source": [
    "import pandas as pd"
   ]
  },
  {
   "cell_type": "code",
   "execution_count": 5,
   "id": "05118590",
   "metadata": {},
   "outputs": [],
   "source": [
    "tables = pd.read_html(\"https://fbref.com/en/comps/1/World-Cup-Stats\")"
   ]
  },
  {
   "cell_type": "code",
   "execution_count": 7,
   "id": "c5065bf2",
   "metadata": {},
   "outputs": [
    {
     "name": "stdout",
     "output_type": "stream",
     "text": [
      "   Rk           Squad  MP  W  D  L  GF  GA  GD  Pts   xG  xGA  xGD  xGD/90  \\\n",
      "0   1  nl Netherlands   3  2  1  0   5   1   4    7  2.4  2.7 -0.3   -0.11   \n",
      "1   2      sn Senegal   3  2  0  1   5   4   1    6  3.8  2.5  1.3    0.43   \n",
      "2   3      ec Ecuador   3  1  1  1   4   3   1    4  3.7  2.6  1.2    0.39   \n",
      "3   4        qa Qatar   3  0  0  3   1   7  -6    0  1.4  3.5 -2.1   -0.71   \n",
      "\n",
      "           Notes  \n",
      "0  → Round of 16  \n",
      "1  → Round of 16  \n",
      "2            NaN  \n",
      "3            NaN  \n"
     ]
    }
   ],
   "source": [
    "print(tables[0])"
   ]
  },
  {
   "cell_type": "code",
   "execution_count": null,
   "id": "f9b446c4",
   "metadata": {},
   "outputs": [],
   "source": []
  }
 ],
 "metadata": {
  "kernelspec": {
   "display_name": "Python 3 (ipykernel)",
   "language": "python",
   "name": "python3"
  },
  "language_info": {
   "codemirror_mode": {
    "name": "ipython",
    "version": 3
   },
   "file_extension": ".py",
   "mimetype": "text/x-python",
   "name": "python",
   "nbconvert_exporter": "python",
   "pygments_lexer": "ipython3",
   "version": "3.9.13"
  }
 },
 "nbformat": 4,
 "nbformat_minor": 5
}
